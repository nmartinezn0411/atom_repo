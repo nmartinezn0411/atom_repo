{
 "cells": [
  {
   "cell_type": "markdown",
   "id": "a1a111eb",
   "metadata": {},
   "source": [
    "### Configuración de base de datos\n",
    "\n",
    "En este archivo se puede probar el código de la configuración de la base de datos, se puede hacer pruebas con la creación de la base de datos y realizar consultas a estas.\n",
    "\n",
    "Para este pequeño proyecto se decidió utilizar una base de datos sencilla en SQLite."
   ]
  },
  {
   "cell_type": "code",
   "execution_count": 7,
   "id": "2a89106c",
   "metadata": {},
   "outputs": [
    {
     "name": "stdout",
     "output_type": "stream",
     "text": [
      "Database created successfully!\n",
      "\n",
      "Data in the database:\n",
      "id | producto    | categoria   | precio | pais      | fecha_venta\n",
      "------------------------------------------------------------\n",
      " 1 | iPhone 14   | smartphones | 1300.0 | Argentina | 2024-05-10\n",
      " 2 | MacBook Air | notebooks   | 1800.0 | Chile     | 2024-05-12\n"
     ]
    }
   ],
   "source": [
    "import sqlite3\n",
    "import os\n",
    "\n",
    "def create_database():\n",
    "    # Remover archivo existente si existe\n",
    "    if os.path.exists('ventas.db'):\n",
    "        os.remove('ventas.db')\n",
    "    \n",
    "    # Conectar a base de datos SQLite\n",
    "    conn = sqlite3.connect('ventas.db')\n",
    "    cursor = conn.cursor()\n",
    "    \n",
    "    # Crear tabla\n",
    "    cursor.execute('''\n",
    "    CREATE TABLE IF NOT EXISTS ventas (\n",
    "        id INTEGER PRIMARY KEY,\n",
    "        producto TEXT NOT NULL,\n",
    "        categoria TEXT NOT NULL,\n",
    "        precio REAL NOT NULL,\n",
    "        pais TEXT NOT NULL,\n",
    "        fecha_venta DATE NOT NULL\n",
    "    )\n",
    "    ''')\n",
    "    \n",
    "    # Insertar data\n",
    "    ventas_data = [\n",
    "        (1, 'iPhone 14', 'smartphones', 1300, 'Argentina', '2024-05-10'),\n",
    "        (2, 'MacBook Air', 'notebooks', 1800, 'Chile', '2024-05-12')\n",
    "    ]\n",
    "    \n",
    "    # Ejectar comando de insertar data\n",
    "    cursor.executemany('''\n",
    "    INSERT INTO ventas (id, producto, categoria, precio, pais, fecha_venta)\n",
    "    VALUES (?, ?, ?, ?, ?, ?)\n",
    "    ''', ventas_data)\n",
    "    \n",
    "    # Se realiza Commit a los cambnios\n",
    "    conn.commit()\n",
    "    \n",
    "    # Confirmar que los datos fueron insertados\n",
    "    cursor.execute('SELECT * FROM ventas')\n",
    "    rows = cursor.fetchall()\n",
    "    \n",
    "    print(\"Database created successfully!\")\n",
    "    print(\"\\nData in the database:\")\n",
    "    print(\"id | producto    | categoria   | precio | pais      | fecha_venta\")\n",
    "    print(\"-\" * 60)\n",
    "    for row in rows:\n",
    "        print(f\"{row[0]:2} | {row[1]:11} | {row[2]:11} | {row[3]:6} | {row[4]:9} | {row[5]}\")\n",
    "    \n",
    "    # Se cierra la conexión\n",
    "    conn.close()\n",
    "    \n",
    "# Se llama la función creada\n",
    "create_database()\n"
   ]
  },
  {
   "cell_type": "code",
   "execution_count": null,
   "id": "b331e0af",
   "metadata": {},
   "outputs": [
    {
     "name": "stdout",
     "output_type": "stream",
     "text": [
      "[(1, 'iPhone 14', 'smartphones', 1300.0, 'Argentina', '2024-05-10'), (2, 'MacBook Air', 'notebooks', 1800.0, 'Chile', '2024-05-12')]\n"
     ]
    }
   ],
   "source": [
    "# Prueba a la base de datos\n",
    "import sqlite3\n",
    "\n",
    "# Realizar conexion\n",
    "conn = sqlite3.connect('ventas.db')\n",
    "cursor = conn.cursor()\n",
    "\n",
    "# Ejectutar llamado a la base de datos\n",
    "cursor.execute('SELECT * FROM ventas')\n",
    "rows = cursor.fetchall()\n",
    "\n",
    "# Mostrar resultados\n",
    "print(rows)\n"
   ]
  }
 ],
 "metadata": {
  "kernelspec": {
   "display_name": ".venv",
   "language": "python",
   "name": "python3"
  },
  "language_info": {
   "codemirror_mode": {
    "name": "ipython",
    "version": 3
   },
   "file_extension": ".py",
   "mimetype": "text/x-python",
   "name": "python",
   "nbconvert_exporter": "python",
   "pygments_lexer": "ipython3",
   "version": "3.10.12"
  }
 },
 "nbformat": 4,
 "nbformat_minor": 5
}
